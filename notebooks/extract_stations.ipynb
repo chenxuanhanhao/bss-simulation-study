{
 "cells": [
  {
   "cell_type": "markdown",
   "metadata": {},
   "source": [
    "This script will generate a list of stations with capacity and initial number of available bikes for august. It will be saved in the `data` folder as `stations_aug.csv`."
   ]
  },
  {
   "cell_type": "code",
   "execution_count": null,
   "metadata": {},
   "outputs": [],
   "source": [
    "import numpy as np\n",
    "import pandas as pd"
   ]
  },
  {
   "cell_type": "code",
   "execution_count": null,
   "metadata": {},
   "outputs": [],
   "source": [
    "snapshots_aug = pd.read_csv('../data/station_snapshot_aug.csv', parse_dates=['timestamp'], index_col='timestamp')"
   ]
  },
  {
   "cell_type": "markdown",
   "metadata": {},
   "source": [
    "The list of stations will comprise all stations that are recorded in the first few entries of the dataset."
   ]
  },
  {
   "cell_type": "code",
   "execution_count": null,
   "metadata": {},
   "outputs": [],
   "source": [
    "stations_aug = snapshots_aug[snapshots_aug.index.day == 1].groupby('dock_group_title').first()"
   ]
  },
  {
   "cell_type": "markdown",
   "metadata": {},
   "source": [
    "Calculate the capacity of the stations as sum of the medians of available bikes and available slots at their first appearance."
   ]
  },
  {
   "cell_type": "code",
   "execution_count": null,
   "metadata": {},
   "outputs": [],
   "source": [
    "cap_aug = snapshots_aug.groupby('dock_group_title').available_docks.median()\n",
    "cap_aug += snapshots_aug.groupby('dock_group_title').available_bikes.median()\n",
    "stations_aug['station_capacity'] = np.ceil(cap_aug)"
   ]
  },
  {
   "cell_type": "code",
   "execution_count": null,
   "metadata": {},
   "outputs": [],
   "source": [
    "stations_aug = stations_aug.drop(columns=['available_bikes', 'available_docks'])"
   ]
  },
  {
   "cell_type": "markdown",
   "metadata": {},
   "source": [
    "Set the number of initially available bikes (e.g. the number of bikes available at the start of the day in the simulation) to the median availability between 12pm and 2pm (inclusive)."
   ]
  },
  {
   "cell_type": "code",
   "execution_count": null,
   "metadata": {},
   "outputs": [],
   "source": [
    "first_aug = snapshots_aug[(snapshots_aug.index.hour <= 2)]\n",
    "stations_aug['station_available'] = np.ceil(first_aug.groupby('dock_group_title')['available_bikes'].median())"
   ]
  },
  {
   "cell_type": "markdown",
   "metadata": {},
   "source": [
    "Rename all the columns to match the format of the open data and set the proper index."
   ]
  },
  {
   "cell_type": "code",
   "execution_count": null,
   "metadata": {},
   "outputs": [],
   "source": [
    "cols = {'latitude': 'station_latitude', 'longitude': 'station_longitude', 'dock_group_title': 'station_name'}\n",
    "stations_aug = stations_aug.reset_index()\n",
    "stations_aug = stations_aug.rename(columns=cols)\n",
    "stations_aug = stations_aug.set_index(stations_aug.station_name)\n",
    "stations_aug = stations_aug.drop(columns=['station_name'])"
   ]
  },
  {
   "cell_type": "code",
   "execution_count": null,
   "metadata": {},
   "outputs": [],
   "source": [
    "stations_aug.head()"
   ]
  },
  {
   "cell_type": "code",
   "execution_count": null,
   "metadata": {},
   "outputs": [],
   "source": [
    "stations_aug.index.values"
   ]
  },
  {
   "cell_type": "markdown",
   "metadata": {},
   "source": [
    "In this step, we eliminate all the stations that are not important or would even harm our study. The stations on the blacklist are for special events/customers only, so we don't want them for the average day. Through further investigation (see the very bottom of this notebook), we also found that \"Pollock Halls Virtual\" always has no bikes available (maybe the status wasn't updated to decomissioned/not_in_service)."
   ]
  },
  {
   "cell_type": "code",
   "execution_count": null,
   "metadata": {},
   "outputs": [],
   "source": [
    "blacklist = ['Depot Virtual', 'Eden Locke - Aparthotel (RESIDENTS ONLY)',\n",
    "             'Fountain Court  - Apartments (RESIDENTS ONLY)',\n",
    "             'Haymarket - Murrayfield Rugby Event', \"Holyrood Park - Woman's Tour Of Scotland (Event 11/08/19)\",\n",
    "             'Pollock Halls Virtual']\n",
    "stations_aug = stations_aug[~stations_aug.index.isin(blacklist)]"
   ]
  },
  {
   "cell_type": "code",
   "execution_count": null,
   "metadata": {},
   "outputs": [],
   "source": [
    "stations_aug.station_capacity = stations_aug.station_capacity.astype(int)\n",
    "stations_aug.station_available = stations_aug.station_available.astype(int)"
   ]
  },
  {
   "cell_type": "code",
   "execution_count": null,
   "metadata": {},
   "outputs": [],
   "source": [
    "stations_aug.describe()"
   ]
  },
  {
   "cell_type": "code",
   "execution_count": null,
   "metadata": {},
   "outputs": [],
   "source": [
    "stations_aug.to_csv('../data/stations_aug.csv')"
   ]
  },
  {
   "cell_type": "markdown",
   "metadata": {},
   "source": [
    "Finally we do some sanity checks to see whether the total number of available bikes in the system is roughly the same as in the beginning of the original dataset. As you can see, the difference is negligible."
   ]
  },
  {
   "cell_type": "code",
   "execution_count": null,
   "metadata": {},
   "outputs": [],
   "source": [
    "avail_orig = snapshots_aug.groupby('dock_group_title')['available_bikes'].first().sum()\n",
    "avail_orig"
   ]
  },
  {
   "cell_type": "code",
   "execution_count": null,
   "metadata": {},
   "outputs": [],
   "source": [
    "stations_aug = pd.read_csv('../data/stations_aug.csv')"
   ]
  },
  {
   "cell_type": "code",
   "execution_count": null,
   "metadata": {},
   "outputs": [],
   "source": [
    "avail_deriv = stations_aug.station_available.sum()\n",
    "avail_deriv"
   ]
  },
  {
   "cell_type": "code",
   "execution_count": null,
   "metadata": {},
   "outputs": [],
   "source": [
    "avail_orig - avail_deriv"
   ]
  },
  {
   "cell_type": "markdown",
   "metadata": {},
   "source": [
    "As mentioned above, this station seems to be not active during August."
   ]
  },
  {
   "cell_type": "code",
   "execution_count": null,
   "metadata": {},
   "outputs": [],
   "source": [
    "(snapshots_aug[snapshots_aug.dock_group_title == 'Pollock Halls Virtual'].available_bikes > 0).any()"
   ]
  }
 ],
 "metadata": {
  "kernelspec": {
   "display_name": "Python 3",
   "language": "python",
   "name": "python3"
  },
  "language_info": {
   "codemirror_mode": {
    "name": "ipython",
    "version": 3
   },
   "file_extension": ".py",
   "mimetype": "text/x-python",
   "name": "python",
   "nbconvert_exporter": "python",
   "pygments_lexer": "ipython3",
   "version": "3.6.8"
  }
 },
 "nbformat": 4,
 "nbformat_minor": 2
}
